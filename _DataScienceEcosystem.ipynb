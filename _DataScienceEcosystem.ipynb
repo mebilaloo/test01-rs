{
 "cells": [
  {
   "cell_type": "code",
   "execution_count": null,
   "id": "b418ef61-64bc-4285-b48d-2e1cf749de39",
   "metadata": {},
   "outputs": [],
   "source": [
    "\n",
    "#Heading"
   ]
  },
  {
   "cell_type": "markdown",
   "id": "82f9bc8d-ffcf-4815-8a98-c766f8d66884",
   "metadata": {},
   "source": [
    " Data Science Tools and Ecosystem"
   ]
  },
  {
   "cell_type": "markdown",
   "id": "c6262abd-7f88-485d-9ca9-aec4d48e3b15",
   "metadata": {},
   "source": [
    "In this notebook, Data Science Tools and Ecosystem are summarized\n"
   ]
  },
  {
   "cell_type": "markdown",
   "id": "01818098-80bd-4adc-8757-0944359877fe",
   "metadata": {},
   "source": [
    "Some of the popular languages that Data Scientists use are:\n",
    "\n",
    "1. **Python**\n",
    "2. **R**\n",
    "3. **SQL**"
   ]
  },
  {
   "cell_type": "markdown",
   "id": "fbcc721a-2c3e-454d-acec-675b6f5d22fa",
   "metadata": {},
   "source": [
    "# Data Science Tools and Ecosystem Overview\n",
    "\n",
    "### Below are a few examples of evaluating arithmetic expressions in Python\n",
    "\n",
    "| Data Science Tools         |\n",
    "|----------------------------|\n",
    "| Jupyter Notebooks          |\n",
    "| RStudio                    |\n",
    "| VS Code with Python Plugin |\n",
    "\n",
    "# Objectives:\n",
    "\n",
    "- **List popular languages for Data Science.**\n",
    "- **Explore common libraries used in Data Science.**\n",
    "- **Create a basic table in Markdown.**\n",
    "- **Understand how to structure and comment Python code.**\n",
    "- **Execute code cells and verify expected outputs.**\n"
   ]
  },
  {
   "cell_type": "markdown",
   "id": "d150c505-71eb-4246-b228-998820473648",
   "metadata": {},
   "source": [
    "Some of the commonly used libraries used by Data Scientists include:\n",
    "\n",
    "1. **NumPy**\n",
    "2. **Pandas**\n",
    "3. **Matplotlib**"
   ]
  },
  {
   "cell_type": "markdown",
   "id": "f5bd59c1-5b1c-4535-b828-82ebf4f4323e",
   "metadata": {},
   "source": [
    "# Data Science Tools and Ecosystem Overview\n",
    "\n",
    "| Data Science Tools         |\n",
    "|----------------------------|\n",
    "| Jupyter Notebooks          |\n",
    "| RStudio                    |\n",
    "| VS Code with Python Plugin |\n"
   ]
  },
  {
   "cell_type": "markdown",
   "id": "85317cd7-2446-48bb-ad61-1251442685b1",
   "metadata": {},
   "source": [
    "### Below are a few examples of evaluating arithmetic expressions in Python\n",
    "\n",
    "| Data Science Tools         |\n",
    "|----------------------------|\n",
    "| Jupyter Notebooks          |\n",
    "| RStudio                    |\n",
    "| VS Code with Python Plugin |\n"
   ]
  },
  {
   "cell_type": "code",
   "execution_count": 1,
   "id": "be9c3088-2244-4cf5-9ee1-ce83af8a389b",
   "metadata": {
    "tags": []
   },
   "outputs": [
    {
     "data": {
      "text/plain": [
       "17"
      ]
     },
     "execution_count": 1,
     "metadata": {},
     "output_type": "execute_result"
    }
   ],
   "source": [
    "# This is a simple arithmetic expression to multiply then add integers.\n",
    "result = (3 * 4) + 5\n",
    "result\n"
   ]
  },
  {
   "cell_type": "code",
   "execution_count": 2,
   "id": "d0496ddf-69e2-41c6-abff-1c28dd251fa5",
   "metadata": {
    "tags": []
   },
   "outputs": [
    {
     "data": {
      "text/plain": [
       "3.3333333333333335"
      ]
     },
     "execution_count": 2,
     "metadata": {},
     "output_type": "execute_result"
    }
   ],
   "source": [
    "#This will convert 200 minutes to hours by diving by 60\n",
    "Result_in_hours=200/60\n",
    "Result_in_hours"
   ]
  },
  {
   "cell_type": "markdown",
   "id": "377b8d4d-6a20-4a5b-b3e5-6da7d9d4a2da",
   "metadata": {},
   "source": [
    "## Author\n",
    "\n",
    "Muhammd Bilal"
   ]
  }
 ],
 "metadata": {
  "kernelspec": {
   "display_name": "Python 3 (ipykernel)",
   "language": "python",
   "name": "python3"
  },
  "language_info": {
   "codemirror_mode": {
    "name": "ipython",
    "version": 3
   },
   "file_extension": ".py",
   "mimetype": "text/x-python",
   "name": "python",
   "nbconvert_exporter": "python",
   "pygments_lexer": "ipython3",
   "version": "3.11.5"
  }
 },
 "nbformat": 4,
 "nbformat_minor": 5
}
